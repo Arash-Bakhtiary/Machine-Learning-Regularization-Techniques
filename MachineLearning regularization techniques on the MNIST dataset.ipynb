{
 "cells": [
  {
   "cell_type": "markdown",
   "id": "0a5c0b11",
   "metadata": {},
   "source": [
    "# Machine Learning regularization techniques"
   ]
  },
  {
   "cell_type": "code",
   "execution_count": 1,
   "id": "e8a02eb2",
   "metadata": {},
   "outputs": [],
   "source": [
    "import numpy as np\n",
    "import matplotlib.pyplot as plt\n",
    "from sklearn.datasets import fetch_openml\n",
    "from sklearn.model_selection import train_test_split\n",
    "from sklearn.preprocessing import StandardScaler\n",
    "from sklearn.linear_model import LogisticRegression\n",
    "from sklearn.metrics import accuracy_score\n",
    "from sklearn.utils import shuffle\n",
    "from sklearn.preprocessing import label_binarize\n",
    "\n",
    "# Load the MNIST dataset\n",
    "mnist = fetch_openml('mnist_784', version=1)\n",
    "X, y = mnist['data'], mnist['target'].astype(int)\n",
    "\n",
    "# Normalize the features and one-hot encode the target variable\n",
    "X = StandardScaler().fit_transform(X.astype(float))\n",
    "y_one_hot = label_binarize(y, classes=np.unique(y))\n",
    "\n",
    "# Split the dataset into training and testing sets\n",
    "X_train, X_test, y_train, y_test = train_test_split(X, y_one_hot, test_size=0.2, random_state=42)\n"
   ]
  },
  {
   "cell_type": "markdown",
   "id": "e803f1e9",
   "metadata": {},
   "source": [
    "L1 Regularization (Lasso Regression):"
   ]
  },
  {
   "cell_type": "code",
   "execution_count": 2,
   "id": "84392b36",
   "metadata": {},
   "outputs": [
    {
     "name": "stderr",
     "output_type": "stream",
     "text": [
      "C:\\Users\\Arash\\anaconda3\\lib\\site-packages\\sklearn\\linear_model\\_sag.py:352: ConvergenceWarning: The max_iter was reached which means the coef_ did not converge\n",
      "  warnings.warn(\n"
     ]
    },
    {
     "name": "stdout",
     "output_type": "stream",
     "text": [
      "Accuracy with L1 Regularization: 0.9207857142857143\n"
     ]
    }
   ],
   "source": [
    "def train_l1_regularization(X_train, y_train, X_test, y_test, alpha=1.0):\n",
    "    model = LogisticRegression(penalty='l1', solver='saga', C=1/alpha, max_iter=200)\n",
    "    model.fit(X_train, np.argmax(y_train, axis=1))\n",
    "    y_pred = model.predict(X_test)\n",
    "    accuracy = accuracy_score(np.argmax(y_test, axis=1), y_pred)\n",
    "    return accuracy\n",
    "\n",
    "# Train and evaluate model with L1 Regularization\n",
    "l1_accuracy = train_l1_regularization(X_train, y_train, X_test, y_test, alpha=0.01)\n",
    "print('Accuracy with L1 Regularization:', l1_accuracy)"
   ]
  },
  {
   "cell_type": "markdown",
   "id": "83ea3a03",
   "metadata": {},
   "source": [
    "L2 Regularization (Ridge Regression):"
   ]
  },
  {
   "cell_type": "code",
   "execution_count": 3,
   "id": "6c912e4a",
   "metadata": {},
   "outputs": [
    {
     "name": "stdout",
     "output_type": "stream",
     "text": [
      "Accuracy with L2 Regularization: 0.9154285714285715\n"
     ]
    },
    {
     "name": "stderr",
     "output_type": "stream",
     "text": [
      "C:\\Users\\Arash\\anaconda3\\lib\\site-packages\\sklearn\\linear_model\\_logistic.py:814: ConvergenceWarning: lbfgs failed to converge (status=1):\n",
      "STOP: TOTAL NO. of ITERATIONS REACHED LIMIT.\n",
      "\n",
      "Increase the number of iterations (max_iter) or scale the data as shown in:\n",
      "    https://scikit-learn.org/stable/modules/preprocessing.html\n",
      "Please also refer to the documentation for alternative solver options:\n",
      "    https://scikit-learn.org/stable/modules/linear_model.html#logistic-regression\n",
      "  n_iter_i = _check_optimize_result(\n"
     ]
    }
   ],
   "source": [
    "def train_l2_regularization(X_train, y_train, X_test, y_test, alpha=1.0):\n",
    "    model = LogisticRegression(penalty='l2', C=1/alpha, max_iter=200)\n",
    "    model.fit(X_train, np.argmax(y_train, axis=1))\n",
    "    y_pred = model.predict(X_test)\n",
    "    accuracy = accuracy_score(np.argmax(y_test, axis=1), y_pred)\n",
    "    return accuracy\n",
    "\n",
    "# Train and evaluate model with L2 Regularization\n",
    "l2_accuracy = train_l2_regularization(X_train, y_train, X_test, y_test, alpha=0.01)\n",
    "print('Accuracy with L2 Regularization:', l2_accuracy)"
   ]
  },
  {
   "cell_type": "markdown",
   "id": "145aabc6",
   "metadata": {},
   "source": [
    "Elastic Net Regularization:"
   ]
  },
  {
   "cell_type": "code",
   "execution_count": 4,
   "id": "fe70025b",
   "metadata": {},
   "outputs": [
    {
     "name": "stdout",
     "output_type": "stream",
     "text": [
      "Accuracy with Elastic Net Regularization: 0.9208571428571428\n"
     ]
    },
    {
     "name": "stderr",
     "output_type": "stream",
     "text": [
      "C:\\Users\\Arash\\anaconda3\\lib\\site-packages\\sklearn\\linear_model\\_sag.py:352: ConvergenceWarning: The max_iter was reached which means the coef_ did not converge\n",
      "  warnings.warn(\n"
     ]
    }
   ],
   "source": [
    "def train_elastic_net(X_train, y_train, X_test, y_test, alpha=1.0, l1_ratio=0.5):\n",
    "    model = LogisticRegression(penalty='elasticnet', l1_ratio=l1_ratio, C=1/alpha, solver='saga', max_iter=200)\n",
    "    model.fit(X_train, np.argmax(y_train, axis=1))\n",
    "    y_pred = model.predict(X_test)\n",
    "    accuracy = accuracy_score(np.argmax(y_test, axis=1), y_pred)\n",
    "    return accuracy\n",
    "\n",
    "# Train and evaluate model with Elastic Net Regularization\n",
    "elastic_net_accuracy = train_elastic_net(X_train, y_train, X_test, y_test, alpha=0.01, l1_ratio=0.5)\n",
    "print('Accuracy with Elastic Net Regularization:', elastic_net_accuracy)"
   ]
  },
  {
   "cell_type": "markdown",
   "id": "a269d958",
   "metadata": {},
   "source": [
    "Dropout:"
   ]
  },
  {
   "cell_type": "code",
   "execution_count": 5,
   "id": "26ad0117",
   "metadata": {},
   "outputs": [
    {
     "name": "stdout",
     "output_type": "stream",
     "text": [
      "438/438 [==============================] - 1s 2ms/step - loss: 0.1882 - accuracy: 0.9696\n",
      "Accuracy with Dropout: 0.9696428775787354\n"
     ]
    }
   ],
   "source": [
    "import tensorflow as tf\n",
    "from tensorflow.keras import Sequential\n",
    "from tensorflow.keras.layers import Dense, Dropout\n",
    "\n",
    "def train_with_dropout(X_train, y_train, X_test, y_test, dropout_rate=0.2):\n",
    "    model = Sequential([\n",
    "        Dense(128, activation='relu', input_shape=(X_train.shape[1],)),\n",
    "        Dropout(dropout_rate),\n",
    "        Dense(10, activation='softmax')\n",
    "    ])\n",
    "    \n",
    "    model.compile(optimizer='adam', loss='categorical_crossentropy', metrics=['accuracy'])\n",
    "    model.fit(X_train, y_train, epochs=10, batch_size=128, verbose=0)\n",
    "    \n",
    "    _, accuracy = model.evaluate(X_test, y_test)\n",
    "    return accuracy\n",
    "\n",
    "# Train and evaluate model with Dropout\n",
    "dropout_accuracy = train_with_dropout(X_train, y_train, X_test, y_test, dropout_rate=0.3)\n",
    "print('Accuracy with Dropout:', dropout_accuracy)"
   ]
  },
  {
   "cell_type": "markdown",
   "id": "ad134762",
   "metadata": {},
   "source": [
    "Early Stopping:"
   ]
  },
  {
   "cell_type": "code",
   "execution_count": 6,
   "id": "85086e96",
   "metadata": {},
   "outputs": [
    {
     "name": "stdout",
     "output_type": "stream",
     "text": [
      "438/438 [==============================] - 1s 2ms/step - loss: 0.1403 - accuracy: 0.9694\n",
      "Accuracy with Early Stopping: 0.9693571329116821\n"
     ]
    }
   ],
   "source": [
    "from tensorflow.keras.callbacks import EarlyStopping\n",
    "\n",
    "def train_with_early_stopping(X_train, y_train, X_test, y_test):\n",
    "    model = Sequential([\n",
    "        Dense(128, activation='relu', input_shape=(X_train.shape[1],)),\n",
    "        Dense(10, activation='softmax')\n",
    "    ])\n",
    "    \n",
    "    model.compile(optimizer='adam', loss='categorical_crossentropy', metrics=['accuracy'])\n",
    "    \n",
    "    early_stopping = EarlyStopping(monitor='val_loss', patience=3)\n",
    "    \n",
    "    history = model.fit(X_train, y_train, epochs=20, batch_size=128, validation_split=0.1, callbacks=[early_stopping], verbose=0)\n",
    "    \n",
    "    _, accuracy = model.evaluate(X_test, y_test)\n",
    "    return accuracy\n",
    "\n",
    "# Train and evaluate model with Early Stopping\n",
    "early_stopping_accuracy = train_with_early_stopping(X_train, y_train, X_test, y_test)\n",
    "print('Accuracy with Early Stopping:', early_stopping_accuracy)"
   ]
  },
  {
   "cell_type": "markdown",
   "id": "b270c521",
   "metadata": {},
   "source": [
    "Data Augmentation:"
   ]
  },
  {
   "cell_type": "code",
   "execution_count": 7,
   "id": "f10058e5",
   "metadata": {},
   "outputs": [
    {
     "name": "stdout",
     "output_type": "stream",
     "text": [
      "438/438 [==============================] - 1s 2ms/step - loss: 0.2820 - accuracy: 0.9261\n",
      "Accuracy with Data Augmentation: 0.9260714054107666\n"
     ]
    }
   ],
   "source": [
    "import numpy as np\n",
    "import matplotlib.pyplot as plt\n",
    "from sklearn.datasets import fetch_openml\n",
    "from sklearn.model_selection import train_test_split\n",
    "from sklearn.preprocessing import StandardScaler\n",
    "from sklearn.linear_model import LogisticRegression\n",
    "from sklearn.metrics import accuracy_score\n",
    "from sklearn.utils import shuffle\n",
    "from sklearn.preprocessing import label_binarize\n",
    "from tensorflow.keras.models import Sequential\n",
    "from tensorflow.keras.layers import Dense, Dropout, Flatten  # Added import for Flatten\n",
    "from tensorflow.keras.preprocessing.image import ImageDataGenerator\n",
    "\n",
    "# Function to train with data augmentation\n",
    "def train_with_data_augmentation(X_train, y_train, X_test, y_test):\n",
    "    # Reshape the data to represent images\n",
    "    X_train_reshaped = X_train.reshape(-1, 28, 28, 1)\n",
    "    X_test_reshaped = X_test.reshape(-1, 28, 28, 1)\n",
    "\n",
    "    datagen = ImageDataGenerator(rotation_range=10, width_shift_range=0.1, height_shift_range=0.1)\n",
    "\n",
    "    model = Sequential([\n",
    "        Flatten(input_shape=(28, 28, 1)),  # Flatten layer to match the augmented data shape\n",
    "        Dense(128, activation='relu'),\n",
    "        Dense(10, activation='softmax')\n",
    "    ])\n",
    "\n",
    "    model.compile(optimizer='adam', loss='categorical_crossentropy', metrics=['accuracy'])\n",
    "\n",
    "    # Fit the model with augmented data\n",
    "    datagen.fit(X_train_reshaped)\n",
    "\n",
    "    # Generate augmented data and labels\n",
    "    augmented_data_gen = datagen.flow(X_train_reshaped, y_train, batch_size=128)\n",
    "\n",
    "    # Determine the number of batches to train on\n",
    "    num_batches = len(augmented_data_gen)\n",
    "    \n",
    "    # Train the model on each batch of augmented data\n",
    "    for i in range(num_batches):\n",
    "        X_batch, y_batch = augmented_data_gen[i]\n",
    "        model.train_on_batch(X_batch, y_batch)\n",
    "\n",
    "    # Evaluate on the test set\n",
    "    _, accuracy = model.evaluate(X_test_reshaped, y_test)\n",
    "    return accuracy\n",
    "\n",
    "# Train and evaluate model with Data Augmentation\n",
    "data_augmentation_accuracy = train_with_data_augmentation(X_train, y_train, X_test, y_test)\n",
    "print('Accuracy with Data Augmentation:', data_augmentation_accuracy)\n"
   ]
  },
  {
   "cell_type": "markdown",
   "id": "82dce211",
   "metadata": {},
   "source": [
    "Weight Regularization:"
   ]
  },
  {
   "cell_type": "code",
   "execution_count": 8,
   "id": "5b12a9b9",
   "metadata": {},
   "outputs": [
    {
     "name": "stdout",
     "output_type": "stream",
     "text": [
      "438/438 [==============================] - 1s 2ms/step - loss: 0.1350 - accuracy: 0.9714\n",
      "Accuracy with Weight Regularization: 0.9713571667671204\n"
     ]
    }
   ],
   "source": [
    "def train_with_weight_regularization(X_train, y_train, X_test, y_test, alpha=1e-4):\n",
    "    model = Sequential([\n",
    "        Dense(128, activation='relu', kernel_regularizer=tf.keras.regularizers.l2(alpha), input_shape=(X_train.shape[1],)),\n",
    "        Dense(10, activation='softmax')\n",
    "    ])\n",
    "    \n",
    "    model.compile(optimizer='adam', loss='categorical_crossentropy', metrics=['accuracy'])\n",
    "    model.fit(X_train, y_train, epochs=10, batch_size=128, verbose=0)\n",
    "    \n",
    "    _, accuracy = model.evaluate(X_test, y_test)\n",
    "    return accuracy\n",
    "\n",
    "# Train and evaluate model with Weight Regularization\n",
    "weight_regularization_accuracy = train_with_weight_regularization(X_train, y_train, X_test, y_test, alpha=1e-4)\n",
    "print('Accuracy with Weight Regularization:', weight_regularization_accuracy)"
   ]
  },
  {
   "cell_type": "markdown",
   "id": "9517320c",
   "metadata": {},
   "source": [
    "Now, let's compare the accuracies obtained with each regularization technique."
   ]
  },
  {
   "cell_type": "code",
   "execution_count": 9,
   "id": "64c2ab96",
   "metadata": {},
   "outputs": [
    {
     "data": {
      "image/png": "[encoded data removed]",
      "text/plain": [
       "<Figure size 1000x600 with 1 Axes>"
      ]
     },
     "metadata": {},
     "output_type": "display_data"
    }
   ],
   "source": [
    "# Plot the comparison of accuracies\n",
    "methods = ['L1 Regularization', 'L2 Regularization', 'Elastic Net', 'Dropout', 'Early Stopping', 'Data Augmentation', 'Weight Regularization']\n",
    "accuracies = [l1_accuracy, l2_accuracy, elastic_net_accuracy, dropout_accuracy, early_stopping_accuracy, data_augmentation_accuracy, weight_regularization_accuracy]\n",
    "\n",
    "plt.figure(figsize=(10, 6))\n",
    "plt.barh(methods, accuracies, color='skyblue')\n",
    "plt.xlabel('Accuracy')\n",
    "plt.title('Accuracy Comparison with Different Regularization Techniques')\n",
    "plt.xlim(0.8, 1.0)\n",
    "plt.show()"
   ]
  }
 ],
 "metadata": {
  "kernelspec": {
   "display_name": "Python 3 (ipykernel)",
   "language": "python",
   "name": "python3"
  },
  "language_info": {
   "codemirror_mode": {
    "name": "ipython",
    "version": 3
   },
   "file_extension": ".py",
   "mimetype": "text/x-python",
   "name": "python",
   "nbconvert_exporter": "python",
   "pygments_lexer": "ipython3",
   "version": "3.9.13"
  },
  "toc": {
   "base_numbering": 1,
   "nav_menu": {},
   "number_sections": true,
   "sideBar": true,
   "skip_h1_title": false,
   "title_cell": "Table of Contents",
   "title_sidebar": "Contents",
   "toc_cell": false,
   "toc_position": {},
   "toc_section_display": true,
   "toc_window_display": false
  }
 },
 "nbformat": 4,
 "nbformat_minor": 5
}
